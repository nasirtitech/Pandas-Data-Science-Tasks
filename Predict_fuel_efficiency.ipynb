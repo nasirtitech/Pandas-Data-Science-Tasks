{
  "nbformat": 4,
  "nbformat_minor": 0,
  "metadata": {
    "colab": {
      "name": "Predict fuel efficiency.ipynb",
      "provenance": [],
      "authorship_tag": "ABX9TyM7MEFemN5uJEWjDQYNdbiY",
      "include_colab_link": true
    },
    "kernelspec": {
      "name": "python3",
      "display_name": "Python 3"
    },
    "language_info": {
      "name": "python"
    }
  },
  "cells": [
    {
      "cell_type": "markdown",
      "metadata": {
        "id": "view-in-github",
        "colab_type": "text"
      },
      "source": [
        "<a href=\"https://colab.research.google.com/github/nasirtitech/Pandas-Data-Science-Tasks/blob/master/Predict_fuel_efficiency.ipynb\" target=\"_parent\"><img src=\"https://colab.research.google.com/assets/colab-badge.svg\" alt=\"Open In Colab\"/></a>"
      ]
    },
    {
      "cell_type": "code",
      "metadata": {
        "id": "-s-YyrS_6b1k"
      },
      "source": [
        "# Use seaborn for pairplot\n",
        "!pip install -q seaborn"
      ],
      "execution_count": 2,
      "outputs": []
    },
    {
      "cell_type": "code",
      "metadata": {
        "id": "48vyxhBK8DMn"
      },
      "source": [
        "import seaborn as sns"
      ],
      "execution_count": 3,
      "outputs": []
    },
    {
      "cell_type": "code",
      "metadata": {
        "id": "fQdC4BY28NwZ"
      },
      "source": [
        "import matplotlib.pyplot as plt\n",
        "import numpy as np\n",
        "import pandas as pd\n",
        "\n",
        "#make numpy printouts easier to read\n",
        "np.set_printoptions(precision=3, suppress=True)"
      ],
      "execution_count": 4,
      "outputs": []
    },
    {
      "cell_type": "code",
      "metadata": {
        "colab": {
          "base_uri": "https://localhost:8080/"
        },
        "id": "X48Vr2dl8iWB",
        "outputId": "255b0c8a-0846-471b-edd0-f858cf6682e4"
      },
      "source": [
        "import tensorflow as tf\n",
        "\n",
        "from tensorflow import keras\n",
        "from tensorflow.keras import layers\n",
        "from tensorflow.keras.layers.experimental import preprocessing\n",
        "\n",
        "print(tf.__version__)"
      ],
      "execution_count": 5,
      "outputs": [
        {
          "output_type": "stream",
          "text": [
            "2.5.0\n"
          ],
          "name": "stdout"
        }
      ]
    },
    {
      "cell_type": "markdown",
      "metadata": {
        "id": "hUNTd3UB874Y"
      },
      "source": [
        "## The auto MPG dataset"
      ]
    },
    {
      "cell_type": "code",
      "metadata": {
        "id": "EDXmvA_k9Cqm"
      },
      "source": [
        "#download and import data using pandas\n",
        "url = 'http://archive.ics.uci.edu/ml/machine-learning-databases/auto-mpg/auto-mpg.data'\n",
        "column_names = ['MPG', 'Cylinders', 'Displacement', 'Horsepower', 'Weight',\n",
        "                'Acceleration', 'Model Year', 'Origin']\n",
        "\n",
        "raw_dataset = pd.read_csv(url, names=column_names,\n",
        "                          na_values='?', comment='\\t',\n",
        "                          sep=' ', skipinitialspace=True)"
      ],
      "execution_count": 6,
      "outputs": []
    },
    {
      "cell_type": "code",
      "metadata": {
        "colab": {
          "base_uri": "https://localhost:8080/",
          "height": 241
        },
        "id": "vq5o1iNd92zR",
        "outputId": "c877fc00-3843-4f97-f45e-8731f1c00887"
      },
      "source": [
        "dataset = raw_dataset.copy()\n",
        "dataset.tail()"
      ],
      "execution_count": 28,
      "outputs": [
        {
          "output_type": "execute_result",
          "data": {
            "text/html": [
              "<div>\n",
              "<style scoped>\n",
              "    .dataframe tbody tr th:only-of-type {\n",
              "        vertical-align: middle;\n",
              "    }\n",
              "\n",
              "    .dataframe tbody tr th {\n",
              "        vertical-align: top;\n",
              "    }\n",
              "\n",
              "    .dataframe thead th {\n",
              "        text-align: right;\n",
              "    }\n",
              "</style>\n",
              "<table border=\"1\" class=\"dataframe\">\n",
              "  <thead>\n",
              "    <tr style=\"text-align: right;\">\n",
              "      <th></th>\n",
              "      <th>MPG</th>\n",
              "      <th>Cylinders</th>\n",
              "      <th>Displacement</th>\n",
              "      <th>Horsepower</th>\n",
              "      <th>Weight</th>\n",
              "      <th>Acceleration</th>\n",
              "      <th>Model Year</th>\n",
              "      <th>Origin</th>\n",
              "    </tr>\n",
              "  </thead>\n",
              "  <tbody>\n",
              "    <tr>\n",
              "      <th>393</th>\n",
              "      <td>27.0</td>\n",
              "      <td>4</td>\n",
              "      <td>140.0</td>\n",
              "      <td>86.0</td>\n",
              "      <td>2790.0</td>\n",
              "      <td>15.6</td>\n",
              "      <td>82</td>\n",
              "      <td>1</td>\n",
              "    </tr>\n",
              "    <tr>\n",
              "      <th>394</th>\n",
              "      <td>44.0</td>\n",
              "      <td>4</td>\n",
              "      <td>97.0</td>\n",
              "      <td>52.0</td>\n",
              "      <td>2130.0</td>\n",
              "      <td>24.6</td>\n",
              "      <td>82</td>\n",
              "      <td>2</td>\n",
              "    </tr>\n",
              "    <tr>\n",
              "      <th>395</th>\n",
              "      <td>32.0</td>\n",
              "      <td>4</td>\n",
              "      <td>135.0</td>\n",
              "      <td>84.0</td>\n",
              "      <td>2295.0</td>\n",
              "      <td>11.6</td>\n",
              "      <td>82</td>\n",
              "      <td>1</td>\n",
              "    </tr>\n",
              "    <tr>\n",
              "      <th>396</th>\n",
              "      <td>28.0</td>\n",
              "      <td>4</td>\n",
              "      <td>120.0</td>\n",
              "      <td>79.0</td>\n",
              "      <td>2625.0</td>\n",
              "      <td>18.6</td>\n",
              "      <td>82</td>\n",
              "      <td>1</td>\n",
              "    </tr>\n",
              "    <tr>\n",
              "      <th>397</th>\n",
              "      <td>31.0</td>\n",
              "      <td>4</td>\n",
              "      <td>119.0</td>\n",
              "      <td>82.0</td>\n",
              "      <td>2720.0</td>\n",
              "      <td>19.4</td>\n",
              "      <td>82</td>\n",
              "      <td>1</td>\n",
              "    </tr>\n",
              "  </tbody>\n",
              "</table>\n",
              "</div>"
            ],
            "text/plain": [
              "      MPG  Cylinders  Displacement  ...  Acceleration  Model Year  Origin\n",
              "393  27.0          4         140.0  ...          15.6          82       1\n",
              "394  44.0          4          97.0  ...          24.6          82       2\n",
              "395  32.0          4         135.0  ...          11.6          82       1\n",
              "396  28.0          4         120.0  ...          18.6          82       1\n",
              "397  31.0          4         119.0  ...          19.4          82       1\n",
              "\n",
              "[5 rows x 8 columns]"
            ]
          },
          "metadata": {
            "tags": []
          },
          "execution_count": 28
        }
      ]
    },
    {
      "cell_type": "markdown",
      "metadata": {
        "id": "J37vLK7K99Zf"
      },
      "source": [
        "## Clean data"
      ]
    },
    {
      "cell_type": "code",
      "metadata": {
        "colab": {
          "base_uri": "https://localhost:8080/"
        },
        "id": "wM9C7WGi-Dg4",
        "outputId": "dd81bc78-c3e3-4825-dedd-d13fd5b0d1ec"
      },
      "source": [
        "dataset.isna().sum()"
      ],
      "execution_count": 29,
      "outputs": [
        {
          "output_type": "execute_result",
          "data": {
            "text/plain": [
              "MPG             0\n",
              "Cylinders       0\n",
              "Displacement    0\n",
              "Horsepower      6\n",
              "Weight          0\n",
              "Acceleration    0\n",
              "Model Year      0\n",
              "Origin          0\n",
              "dtype: int64"
            ]
          },
          "metadata": {
            "tags": []
          },
          "execution_count": 29
        }
      ]
    },
    {
      "cell_type": "code",
      "metadata": {
        "id": "Ov8HVRHB-G9w"
      },
      "source": [
        "dataset = dataset.dropna()"
      ],
      "execution_count": 30,
      "outputs": []
    },
    {
      "cell_type": "code",
      "metadata": {
        "colab": {
          "base_uri": "https://localhost:8080/"
        },
        "id": "ch7qk4RlANPw",
        "outputId": "39415711-c041-436a-c6aa-251d2ddc7c67"
      },
      "source": [
        "print(dataset['Origin'].head())"
      ],
      "execution_count": 19,
      "outputs": [
        {
          "output_type": "stream",
          "text": [
            "0    1\n",
            "1    1\n",
            "2    1\n",
            "3    1\n",
            "4    1\n",
            "Name: Origin, dtype: int64\n"
          ],
          "name": "stdout"
        }
      ]
    },
    {
      "cell_type": "code",
      "metadata": {
        "id": "2hhXkSi0-Lr3"
      },
      "source": [
        "# # convert the categorical data into numeric\n",
        "# categorical_colums = ['Origin']\n",
        "\n",
        "# feature_columns = []\n",
        "# for feature_name in categorical_colums:\n",
        "#   vocabulary = dataset.feature_name.unique()\n",
        "#   feature_columns.append(tf.feature_column.categorical_column_with_vocabulary_list(feature_name, vocabulary))\n",
        "\n",
        "# print(feature_columns)\n"
      ],
      "execution_count": 12,
      "outputs": []
    },
    {
      "cell_type": "code",
      "metadata": {
        "id": "3b15LwwXAEF5"
      },
      "source": [
        "dataset['Origin'] = dataset['Origin'].map({1: 'USA', 2: 'Europe', 3: 'Japan'})"
      ],
      "execution_count": 31,
      "outputs": []
    },
    {
      "cell_type": "code",
      "metadata": {
        "colab": {
          "base_uri": "https://localhost:8080/",
          "height": 241
        },
        "id": "FUycVWWxCE2d",
        "outputId": "43f99967-bf20-4316-a572-1a46815ec425"
      },
      "source": [
        "dataset = pd.get_dummies(dataset, columns=['Origin'], prefix='', prefix_sep='' )\n",
        "dataset.tail()"
      ],
      "execution_count": 32,
      "outputs": [
        {
          "output_type": "execute_result",
          "data": {
            "text/html": [
              "<div>\n",
              "<style scoped>\n",
              "    .dataframe tbody tr th:only-of-type {\n",
              "        vertical-align: middle;\n",
              "    }\n",
              "\n",
              "    .dataframe tbody tr th {\n",
              "        vertical-align: top;\n",
              "    }\n",
              "\n",
              "    .dataframe thead th {\n",
              "        text-align: right;\n",
              "    }\n",
              "</style>\n",
              "<table border=\"1\" class=\"dataframe\">\n",
              "  <thead>\n",
              "    <tr style=\"text-align: right;\">\n",
              "      <th></th>\n",
              "      <th>MPG</th>\n",
              "      <th>Cylinders</th>\n",
              "      <th>Displacement</th>\n",
              "      <th>Horsepower</th>\n",
              "      <th>Weight</th>\n",
              "      <th>Acceleration</th>\n",
              "      <th>Model Year</th>\n",
              "      <th>Europe</th>\n",
              "      <th>Japan</th>\n",
              "      <th>USA</th>\n",
              "    </tr>\n",
              "  </thead>\n",
              "  <tbody>\n",
              "    <tr>\n",
              "      <th>393</th>\n",
              "      <td>27.0</td>\n",
              "      <td>4</td>\n",
              "      <td>140.0</td>\n",
              "      <td>86.0</td>\n",
              "      <td>2790.0</td>\n",
              "      <td>15.6</td>\n",
              "      <td>82</td>\n",
              "      <td>0</td>\n",
              "      <td>0</td>\n",
              "      <td>1</td>\n",
              "    </tr>\n",
              "    <tr>\n",
              "      <th>394</th>\n",
              "      <td>44.0</td>\n",
              "      <td>4</td>\n",
              "      <td>97.0</td>\n",
              "      <td>52.0</td>\n",
              "      <td>2130.0</td>\n",
              "      <td>24.6</td>\n",
              "      <td>82</td>\n",
              "      <td>1</td>\n",
              "      <td>0</td>\n",
              "      <td>0</td>\n",
              "    </tr>\n",
              "    <tr>\n",
              "      <th>395</th>\n",
              "      <td>32.0</td>\n",
              "      <td>4</td>\n",
              "      <td>135.0</td>\n",
              "      <td>84.0</td>\n",
              "      <td>2295.0</td>\n",
              "      <td>11.6</td>\n",
              "      <td>82</td>\n",
              "      <td>0</td>\n",
              "      <td>0</td>\n",
              "      <td>1</td>\n",
              "    </tr>\n",
              "    <tr>\n",
              "      <th>396</th>\n",
              "      <td>28.0</td>\n",
              "      <td>4</td>\n",
              "      <td>120.0</td>\n",
              "      <td>79.0</td>\n",
              "      <td>2625.0</td>\n",
              "      <td>18.6</td>\n",
              "      <td>82</td>\n",
              "      <td>0</td>\n",
              "      <td>0</td>\n",
              "      <td>1</td>\n",
              "    </tr>\n",
              "    <tr>\n",
              "      <th>397</th>\n",
              "      <td>31.0</td>\n",
              "      <td>4</td>\n",
              "      <td>119.0</td>\n",
              "      <td>82.0</td>\n",
              "      <td>2720.0</td>\n",
              "      <td>19.4</td>\n",
              "      <td>82</td>\n",
              "      <td>0</td>\n",
              "      <td>0</td>\n",
              "      <td>1</td>\n",
              "    </tr>\n",
              "  </tbody>\n",
              "</table>\n",
              "</div>"
            ],
            "text/plain": [
              "      MPG  Cylinders  Displacement  Horsepower  ...  Model Year  Europe  Japan  USA\n",
              "393  27.0          4         140.0        86.0  ...          82       0      0    1\n",
              "394  44.0          4          97.0        52.0  ...          82       1      0    0\n",
              "395  32.0          4         135.0        84.0  ...          82       0      0    1\n",
              "396  28.0          4         120.0        79.0  ...          82       0      0    1\n",
              "397  31.0          4         119.0        82.0  ...          82       0      0    1\n",
              "\n",
              "[5 rows x 10 columns]"
            ]
          },
          "metadata": {
            "tags": []
          },
          "execution_count": 32
        }
      ]
    },
    {
      "cell_type": "markdown",
      "metadata": {
        "id": "XwfzQwnXCo5L"
      },
      "source": [
        "## split the data into train and test"
      ]
    },
    {
      "cell_type": "code",
      "metadata": {
        "id": "pBQ7kexXDcAi"
      },
      "source": [
        "train_dataset = dataset.sample(frac=0.8, random_state=0)\n",
        "\n",
        "test_dataset = dataset.drop(train_dataset.index)"
      ],
      "execution_count": 33,
      "outputs": []
    },
    {
      "cell_type": "markdown",
      "metadata": {
        "id": "g0cCGPoQDznb"
      },
      "source": [
        "## Inspect the data"
      ]
    },
    {
      "cell_type": "code",
      "metadata": {
        "colab": {
          "base_uri": "https://localhost:8080/",
          "height": 763
        },
        "id": "BIaYcZySD4BK",
        "outputId": "41986755-b7de-4bb2-b33a-ee0caa33ca08"
      },
      "source": [
        "sns.pairplot(train_dataset[['MPG', 'Cylinders', 'Displacement', 'Weight']], diag_kind='kde')"
      ],
      "execution_count": 23,
      "outputs": [
        {
          "output_type": "execute_result",
          "data": {
            "text/plain": [
              "<seaborn.axisgrid.PairGrid at 0x7fbfa885f850>"
            ]
          },
          "metadata": {
            "tags": []
          },
          "execution_count": 23
        },
        {
          "output_type": "display_data",
          "data": {
            "image/png": "[encoded data removed]",
            "text/plain": [
              "<Figure size 720x720 with 20 Axes>"
            ]
          },
          "metadata": {
            "tags": [],
            "needs_background": "light"
          }
        }
      ]
    },
    {
      "cell_type": "code",
      "metadata": {
        "colab": {
          "base_uri": "https://localhost:8080/",
          "height": 379
        },
        "id": "gn514u3bETgD",
        "outputId": "ad137676-48ba-44bc-e273-3a96801733fa"
      },
      "source": [
        "train_dataset.describe().transpose()"
      ],
      "execution_count": 24,
      "outputs": [
        {
          "output_type": "execute_result",
          "data": {
            "text/html": [
              "<div>\n",
              "<style scoped>\n",
              "    .dataframe tbody tr th:only-of-type {\n",
              "        vertical-align: middle;\n",
              "    }\n",
              "\n",
              "    .dataframe tbody tr th {\n",
              "        vertical-align: top;\n",
              "    }\n",
              "\n",
              "    .dataframe thead th {\n",
              "        text-align: right;\n",
              "    }\n",
              "</style>\n",
              "<table border=\"1\" class=\"dataframe\">\n",
              "  <thead>\n",
              "    <tr style=\"text-align: right;\">\n",
              "      <th></th>\n",
              "      <th>count</th>\n",
              "      <th>mean</th>\n",
              "      <th>std</th>\n",
              "      <th>min</th>\n",
              "      <th>25%</th>\n",
              "      <th>50%</th>\n",
              "      <th>75%</th>\n",
              "      <th>max</th>\n",
              "    </tr>\n",
              "  </thead>\n",
              "  <tbody>\n",
              "    <tr>\n",
              "      <th>MPG</th>\n",
              "      <td>314.0</td>\n",
              "      <td>23.310510</td>\n",
              "      <td>7.728652</td>\n",
              "      <td>10.0</td>\n",
              "      <td>17.00</td>\n",
              "      <td>22.0</td>\n",
              "      <td>28.95</td>\n",
              "      <td>46.6</td>\n",
              "    </tr>\n",
              "    <tr>\n",
              "      <th>Cylinders</th>\n",
              "      <td>314.0</td>\n",
              "      <td>5.477707</td>\n",
              "      <td>1.699788</td>\n",
              "      <td>3.0</td>\n",
              "      <td>4.00</td>\n",
              "      <td>4.0</td>\n",
              "      <td>8.00</td>\n",
              "      <td>8.0</td>\n",
              "    </tr>\n",
              "    <tr>\n",
              "      <th>Displacement</th>\n",
              "      <td>314.0</td>\n",
              "      <td>195.318471</td>\n",
              "      <td>104.331589</td>\n",
              "      <td>68.0</td>\n",
              "      <td>105.50</td>\n",
              "      <td>151.0</td>\n",
              "      <td>265.75</td>\n",
              "      <td>455.0</td>\n",
              "    </tr>\n",
              "    <tr>\n",
              "      <th>Horsepower</th>\n",
              "      <td>314.0</td>\n",
              "      <td>104.869427</td>\n",
              "      <td>38.096214</td>\n",
              "      <td>46.0</td>\n",
              "      <td>76.25</td>\n",
              "      <td>94.5</td>\n",
              "      <td>128.00</td>\n",
              "      <td>225.0</td>\n",
              "    </tr>\n",
              "    <tr>\n",
              "      <th>Weight</th>\n",
              "      <td>314.0</td>\n",
              "      <td>2990.251592</td>\n",
              "      <td>843.898596</td>\n",
              "      <td>1649.0</td>\n",
              "      <td>2256.50</td>\n",
              "      <td>2822.5</td>\n",
              "      <td>3608.00</td>\n",
              "      <td>5140.0</td>\n",
              "    </tr>\n",
              "    <tr>\n",
              "      <th>Acceleration</th>\n",
              "      <td>314.0</td>\n",
              "      <td>15.559236</td>\n",
              "      <td>2.789230</td>\n",
              "      <td>8.0</td>\n",
              "      <td>13.80</td>\n",
              "      <td>15.5</td>\n",
              "      <td>17.20</td>\n",
              "      <td>24.8</td>\n",
              "    </tr>\n",
              "    <tr>\n",
              "      <th>Model Year</th>\n",
              "      <td>314.0</td>\n",
              "      <td>75.898089</td>\n",
              "      <td>3.675642</td>\n",
              "      <td>70.0</td>\n",
              "      <td>73.00</td>\n",
              "      <td>76.0</td>\n",
              "      <td>79.00</td>\n",
              "      <td>82.0</td>\n",
              "    </tr>\n",
              "    <tr>\n",
              "      <th>Europe</th>\n",
              "      <td>314.0</td>\n",
              "      <td>0.178344</td>\n",
              "      <td>0.383413</td>\n",
              "      <td>0.0</td>\n",
              "      <td>0.00</td>\n",
              "      <td>0.0</td>\n",
              "      <td>0.00</td>\n",
              "      <td>1.0</td>\n",
              "    </tr>\n",
              "    <tr>\n",
              "      <th>Japan</th>\n",
              "      <td>314.0</td>\n",
              "      <td>0.197452</td>\n",
              "      <td>0.398712</td>\n",
              "      <td>0.0</td>\n",
              "      <td>0.00</td>\n",
              "      <td>0.0</td>\n",
              "      <td>0.00</td>\n",
              "      <td>1.0</td>\n",
              "    </tr>\n",
              "    <tr>\n",
              "      <th>USA</th>\n",
              "      <td>314.0</td>\n",
              "      <td>0.624204</td>\n",
              "      <td>0.485101</td>\n",
              "      <td>0.0</td>\n",
              "      <td>0.00</td>\n",
              "      <td>1.0</td>\n",
              "      <td>1.00</td>\n",
              "      <td>1.0</td>\n",
              "    </tr>\n",
              "  </tbody>\n",
              "</table>\n",
              "</div>"
            ],
            "text/plain": [
              "              count         mean         std  ...     50%      75%     max\n",
              "MPG           314.0    23.310510    7.728652  ...    22.0    28.95    46.6\n",
              "Cylinders     314.0     5.477707    1.699788  ...     4.0     8.00     8.0\n",
              "Displacement  314.0   195.318471  104.331589  ...   151.0   265.75   455.0\n",
              "Horsepower    314.0   104.869427   38.096214  ...    94.5   128.00   225.0\n",
              "Weight        314.0  2990.251592  843.898596  ...  2822.5  3608.00  5140.0\n",
              "Acceleration  314.0    15.559236    2.789230  ...    15.5    17.20    24.8\n",
              "Model Year    314.0    75.898089    3.675642  ...    76.0    79.00    82.0\n",
              "Europe        314.0     0.178344    0.383413  ...     0.0     0.00     1.0\n",
              "Japan         314.0     0.197452    0.398712  ...     0.0     0.00     1.0\n",
              "USA           314.0     0.624204    0.485101  ...     1.0     1.00     1.0\n",
              "\n",
              "[10 rows x 8 columns]"
            ]
          },
          "metadata": {
            "tags": []
          },
          "execution_count": 24
        }
      ]
    },
    {
      "cell_type": "markdown",
      "metadata": {
        "id": "kzDeUhzZEmbZ"
      },
      "source": [
        "## Split features from labels"
      ]
    },
    {
      "cell_type": "code",
      "metadata": {
        "colab": {
          "base_uri": "https://localhost:8080/"
        },
        "id": "IeBfdV_dE0Ff",
        "outputId": "a9ba4c4b-ba69-444f-c768-0f11be0bbb50"
      },
      "source": [
        "train_features  =train_dataset.copy()\n",
        "test_features = test_dataset.copy()\n",
        "\n",
        "print(train_features.columns)\n",
        "\n",
        "train_labels = train_features.pop('MPG')\n",
        "test_labels = test_features.pop('MPG')\n",
        "\n",
        "print(train_features.columns)\n"
      ],
      "execution_count": 34,
      "outputs": [
        {
          "output_type": "stream",
          "text": [
            "Index(['MPG', 'Cylinders', 'Displacement', 'Horsepower', 'Weight',\n",
            "       'Acceleration', 'Model Year', 'Europe', 'Japan', 'USA'],\n",
            "      dtype='object')\n",
            "Index(['Cylinders', 'Displacement', 'Horsepower', 'Weight', 'Acceleration',\n",
            "       'Model Year', 'Europe', 'Japan', 'USA'],\n",
            "      dtype='object')\n"
          ],
          "name": "stdout"
        }
      ]
    },
    {
      "cell_type": "code",
      "metadata": {
        "colab": {
          "base_uri": "https://localhost:8080/"
        },
        "id": "V2WhbUunFYp_",
        "outputId": "05853097-295a-40f9-d89a-27cb92bfdcab"
      },
      "source": [
        "print(train_features.columns)\n",
        "print(train_labels.tail())"
      ],
      "execution_count": 27,
      "outputs": [
        {
          "output_type": "stream",
          "text": [
            "Index(['Cylinders', 'Displacement', 'Horsepower', 'Weight', 'Acceleration',\n",
            "       'Model Year', 'Europe', 'Japan', 'USA'],\n",
            "      dtype='object')\n",
            "281    19.8\n",
            "229    16.0\n",
            "150    26.0\n",
            "145    32.0\n",
            "182    28.0\n",
            "Name: MPG, dtype: float64\n"
          ],
          "name": "stdout"
        }
      ]
    },
    {
      "cell_type": "markdown",
      "metadata": {
        "id": "uIwwJVwKF2oL"
      },
      "source": [
        "## Normalization"
      ]
    },
    {
      "cell_type": "code",
      "metadata": {
        "colab": {
          "base_uri": "https://localhost:8080/",
          "height": 359
        },
        "id": "GLMgWu0qGoV_",
        "outputId": "dbd90bb5-2eae-467b-de1f-2b671351fced"
      },
      "source": [
        "train_dataset.describe().transpose()[['mean', 'std']]"
      ],
      "execution_count": 35,
      "outputs": [
        {
          "output_type": "execute_result",
          "data": {
            "text/html": [
              "<div>\n",
              "<style scoped>\n",
              "    .dataframe tbody tr th:only-of-type {\n",
              "        vertical-align: middle;\n",
              "    }\n",
              "\n",
              "    .dataframe tbody tr th {\n",
              "        vertical-align: top;\n",
              "    }\n",
              "\n",
              "    .dataframe thead th {\n",
              "        text-align: right;\n",
              "    }\n",
              "</style>\n",
              "<table border=\"1\" class=\"dataframe\">\n",
              "  <thead>\n",
              "    <tr style=\"text-align: right;\">\n",
              "      <th></th>\n",
              "      <th>mean</th>\n",
              "      <th>std</th>\n",
              "    </tr>\n",
              "  </thead>\n",
              "  <tbody>\n",
              "    <tr>\n",
              "      <th>MPG</th>\n",
              "      <td>23.310510</td>\n",
              "      <td>7.728652</td>\n",
              "    </tr>\n",
              "    <tr>\n",
              "      <th>Cylinders</th>\n",
              "      <td>5.477707</td>\n",
              "      <td>1.699788</td>\n",
              "    </tr>\n",
              "    <tr>\n",
              "      <th>Displacement</th>\n",
              "      <td>195.318471</td>\n",
              "      <td>104.331589</td>\n",
              "    </tr>\n",
              "    <tr>\n",
              "      <th>Horsepower</th>\n",
              "      <td>104.869427</td>\n",
              "      <td>38.096214</td>\n",
              "    </tr>\n",
              "    <tr>\n",
              "      <th>Weight</th>\n",
              "      <td>2990.251592</td>\n",
              "      <td>843.898596</td>\n",
              "    </tr>\n",
              "    <tr>\n",
              "      <th>Acceleration</th>\n",
              "      <td>15.559236</td>\n",
              "      <td>2.789230</td>\n",
              "    </tr>\n",
              "    <tr>\n",
              "      <th>Model Year</th>\n",
              "      <td>75.898089</td>\n",
              "      <td>3.675642</td>\n",
              "    </tr>\n",
              "    <tr>\n",
              "      <th>Europe</th>\n",
              "      <td>0.178344</td>\n",
              "      <td>0.383413</td>\n",
              "    </tr>\n",
              "    <tr>\n",
              "      <th>Japan</th>\n",
              "      <td>0.197452</td>\n",
              "      <td>0.398712</td>\n",
              "    </tr>\n",
              "    <tr>\n",
              "      <th>USA</th>\n",
              "      <td>0.624204</td>\n",
              "      <td>0.485101</td>\n",
              "    </tr>\n",
              "  </tbody>\n",
              "</table>\n",
              "</div>"
            ],
            "text/plain": [
              "                     mean         std\n",
              "MPG             23.310510    7.728652\n",
              "Cylinders        5.477707    1.699788\n",
              "Displacement   195.318471  104.331589\n",
              "Horsepower     104.869427   38.096214\n",
              "Weight        2990.251592  843.898596\n",
              "Acceleration    15.559236    2.789230\n",
              "Model Year      75.898089    3.675642\n",
              "Europe           0.178344    0.383413\n",
              "Japan            0.197452    0.398712\n",
              "USA              0.624204    0.485101"
            ]
          },
          "metadata": {
            "tags": []
          },
          "execution_count": 35
        }
      ]
    },
    {
      "cell_type": "code",
      "metadata": {
        "id": "5WAb3IzsG6_Z"
      },
      "source": [
        "#Create the normalizer layer\n",
        "normalizer = preprocessing.Normalization()"
      ],
      "execution_count": 36,
      "outputs": []
    },
    {
      "cell_type": "code",
      "metadata": {
        "id": "u7Hg0fsUHYdS"
      },
      "source": [
        "# .adapt() it to the data\n",
        "normalizer.adapt(np.array(train_features))"
      ],
      "execution_count": 37,
      "outputs": []
    },
    {
      "cell_type": "code",
      "metadata": {
        "colab": {
          "base_uri": "https://localhost:8080/"
        },
        "id": "2SKIzY9VHleK",
        "outputId": "3a9c2fb4-2e28-4c2b-bbb1-0a6880947ce3"
      },
      "source": [
        "print(normalizer.mean.numpy())"
      ],
      "execution_count": 38,
      "outputs": [
        {
          "output_type": "stream",
          "text": [
            "[   5.478  195.318  104.869 2990.252   15.559   75.898    0.178    0.197\n",
            "    0.624]\n"
          ],
          "name": "stdout"
        }
      ]
    },
    {
      "cell_type": "code",
      "metadata": {
        "colab": {
          "base_uri": "https://localhost:8080/"
        },
        "id": "IUlGdhigHqPM",
        "outputId": "61815afc-d9a6-4476-f965-04387ccf34db"
      },
      "source": [
        "first = np.array(train_features[:1])\n",
        "\n",
        "with np.printoptions(precision=2, suppress=True):\n",
        "  print('First example:', first)\n",
        "  print()\n",
        "  print('Normalized:', normalizer(first).numpy())"
      ],
      "execution_count": 39,
      "outputs": [
        {
          "output_type": "stream",
          "text": [
            "First example: [[   4.    90.    75.  2125.    14.5   74.     0.     0.     1. ]]\n",
            "\n",
            "Normalized: [[-0.87 -1.01 -0.79 -1.03 -0.38 -0.52 -0.47 -0.5   0.78]]\n"
          ],
          "name": "stdout"
        }
      ]
    },
    {
      "cell_type": "markdown",
      "metadata": {
        "id": "6nlb3yBuIBr6"
      },
      "source": [
        "## Linear regression"
      ]
    },
    {
      "cell_type": "code",
      "metadata": {
        "id": "6IFtqHNXIQNb"
      },
      "source": [
        "# first create the hoursepower normalization layer\n",
        "hoursepower = np.array(train_features['Horsepower'])\n",
        "\n",
        "hoursepower_normalizer = preprocessing.Normalization(input_shape=[1,])\n",
        "hoursepower_normalizer.adapt(hoursepower)"
      ],
      "execution_count": 45,
      "outputs": []
    },
    {
      "cell_type": "code",
      "metadata": {
        "colab": {
          "base_uri": "https://localhost:8080/"
        },
        "id": "RbhBMZWYJT2E",
        "outputId": "0963bb4b-f6f1-4232-e7eb-a506e5611f67"
      },
      "source": [
        "# Build the sequential model\n",
        "hoursepower_model = tf.keras.Sequential([\n",
        "    hoursepower_normalizer,\n",
        "    layers.Dense(units=1)\n",
        "    ])\n",
        "\n",
        "hoursepower_model.summary()"
      ],
      "execution_count": 46,
      "outputs": [
        {
          "output_type": "stream",
          "text": [
            "Model: \"sequential\"\n",
            "_________________________________________________________________\n",
            "Layer (type)                 Output Shape              Param #   \n",
            "=================================================================\n",
            "normalization_1 (Normalizati (None, 1)                 3         \n",
            "_________________________________________________________________\n",
            "dense (Dense)                (None, 1)                 2         \n",
            "=================================================================\n",
            "Total params: 5\n",
            "Trainable params: 2\n",
            "Non-trainable params: 3\n",
            "_________________________________________________________________\n"
          ],
          "name": "stdout"
        }
      ]
    },
    {
      "cell_type": "code",
      "metadata": {
        "colab": {
          "base_uri": "https://localhost:8080/"
        },
        "id": "69_lXkBnJ02b",
        "outputId": "356c31c9-5ccd-4f06-cf04-58e64a0d284e"
      },
      "source": [
        "hoursepower_model.predict(hoursepower[:10])"
      ],
      "execution_count": 47,
      "outputs": [
        {
          "output_type": "execute_result",
          "data": {
            "text/plain": [
              "array([[ 0.272],\n",
              "       [ 0.154],\n",
              "       [-0.502],\n",
              "       [ 0.381],\n",
              "       [ 0.345],\n",
              "       [ 0.135],\n",
              "       [ 0.409],\n",
              "       [ 0.345],\n",
              "       [ 0.09 ],\n",
              "       [ 0.154]], dtype=float32)"
            ]
          },
          "metadata": {
            "tags": []
          },
          "execution_count": 47
        }
      ]
    },
    {
      "cell_type": "code",
      "metadata": {
        "id": "5EM9-K4eJ-wE"
      },
      "source": [
        "#compile the model\n",
        "hoursepower_model.compile(\n",
        "    optimizer=tf.optimizers.Adam(learning_rate=0.1),\n",
        "    loss='mean_absolute_error', \n",
        "    #metrics = ['accuracy']\n",
        ")"
      ],
      "execution_count": 51,
      "outputs": []
    },
    {
      "cell_type": "code",
      "metadata": {
        "colab": {
          "base_uri": "https://localhost:8080/"
        },
        "id": "F3EcR_o3K9Sq",
        "outputId": "f7ab64f3-6164-4882-c51f-8676070f0366"
      },
      "source": [
        "# Once the training is configured, use Model.fit() to execute the training:\n",
        "%%time\n",
        "history = hoursepower_model.fit(\n",
        "    train_features['Horsepower'],\n",
        "    train_labels,\n",
        "    epochs = 100,\n",
        "    #suppress logging\n",
        "    verbose=0,\n",
        "    # Calculate validation results on 20% of the training data\n",
        "    validation_split = 0.2)"
      ],
      "execution_count": 63,
      "outputs": [
        {
          "output_type": "stream",
          "text": [
            "CPU times: user 2.52 s, sys: 138 ms, total: 2.65 s\n",
            "Wall time: 2.56 s\n"
          ],
          "name": "stdout"
        }
      ]
    },
    {
      "cell_type": "markdown",
      "metadata": {
        "id": "KNHdf7ciLqW1"
      },
      "source": [
        "### Visualize the model's training progress using the stats stored in the history object."
      ]
    },
    {
      "cell_type": "code",
      "metadata": {
        "colab": {
          "base_uri": "https://localhost:8080/",
          "height": 204
        },
        "id": "RsYdmnwNL0Ik",
        "outputId": "ee2209d6-5afa-4ffd-e422-a46ee7714e60"
      },
      "source": [
        "hist = pd.DataFrame(history.history)\n",
        "hist['epoch']  = history.epoch\n",
        "hist.tail()"
      ],
      "execution_count": 64,
      "outputs": [
        {
          "output_type": "execute_result",
          "data": {
            "text/html": [
              "<div>\n",
              "<style scoped>\n",
              "    .dataframe tbody tr th:only-of-type {\n",
              "        vertical-align: middle;\n",
              "    }\n",
              "\n",
              "    .dataframe tbody tr th {\n",
              "        vertical-align: top;\n",
              "    }\n",
              "\n",
              "    .dataframe thead th {\n",
              "        text-align: right;\n",
              "    }\n",
              "</style>\n",
              "<table border=\"1\" class=\"dataframe\">\n",
              "  <thead>\n",
              "    <tr style=\"text-align: right;\">\n",
              "      <th></th>\n",
              "      <th>loss</th>\n",
              "      <th>val_loss</th>\n",
              "      <th>epoch</th>\n",
              "    </tr>\n",
              "  </thead>\n",
              "  <tbody>\n",
              "    <tr>\n",
              "      <th>95</th>\n",
              "      <td>3.806729</td>\n",
              "      <td>4.207337</td>\n",
              "      <td>95</td>\n",
              "    </tr>\n",
              "    <tr>\n",
              "      <th>96</th>\n",
              "      <td>3.804204</td>\n",
              "      <td>4.186812</td>\n",
              "      <td>96</td>\n",
              "    </tr>\n",
              "    <tr>\n",
              "      <th>97</th>\n",
              "      <td>3.808025</td>\n",
              "      <td>4.166151</td>\n",
              "      <td>97</td>\n",
              "    </tr>\n",
              "    <tr>\n",
              "      <th>98</th>\n",
              "      <td>3.805771</td>\n",
              "      <td>4.169485</td>\n",
              "      <td>98</td>\n",
              "    </tr>\n",
              "    <tr>\n",
              "      <th>99</th>\n",
              "      <td>3.809169</td>\n",
              "      <td>4.196876</td>\n",
              "      <td>99</td>\n",
              "    </tr>\n",
              "  </tbody>\n",
              "</table>\n",
              "</div>"
            ],
            "text/plain": [
              "        loss  val_loss  epoch\n",
              "95  3.806729  4.207337     95\n",
              "96  3.804204  4.186812     96\n",
              "97  3.808025  4.166151     97\n",
              "98  3.805771  4.169485     98\n",
              "99  3.809169  4.196876     99"
            ]
          },
          "metadata": {
            "tags": []
          },
          "execution_count": 64
        }
      ]
    },
    {
      "cell_type": "code",
      "metadata": {
        "id": "ycPKErmtMJNc"
      },
      "source": [
        "def plot_loss(history):\n",
        "  plt.plot(history.history['loss'], label='loss')\n",
        "  plt.plot(history.history['val_loss'], label='val_loss')\n",
        "  plt. ylim([0, 10])\n",
        "  plt.xlabel('Epoch')\n",
        "  plt.ylabel('Error [MPG')\n",
        "  plt.legend()\n",
        "  plt.grid(True)"
      ],
      "execution_count": 67,
      "outputs": []
    },
    {
      "cell_type": "code",
      "metadata": {
        "colab": {
          "base_uri": "https://localhost:8080/",
          "height": 283
        },
        "id": "g06AfNgMNsQS",
        "outputId": "c19a99c8-d7be-4698-a878-acf4df9751f6"
      },
      "source": [
        "plot_loss(history)"
      ],
      "execution_count": 68,
      "outputs": [
        {
          "output_type": "display_data",
          "data": {
            "image/png": "[encoded data removed]",
            "text/plain": [
              "<Figure size 432x288 with 1 Axes>"
            ]
          },
          "metadata": {
            "tags": [],
            "needs_background": "light"
          }
        }
      ]
    },
    {
      "cell_type": "markdown",
      "metadata": {
        "id": "mJ0lYsloN3cC"
      },
      "source": [
        "## Collect the results on the test set, for later:"
      ]
    },
    {
      "cell_type": "code",
      "metadata": {
        "id": "tRk85PEqOahN"
      },
      "source": [
        "test_results = {}\n",
        "\n",
        "test_results['hoursepower_model'] = hoursepower_model.evaluate(\n",
        "    test_features['Horsepower'],\n",
        "    test_labels, verbose=0\n",
        ")"
      ],
      "execution_count": 69,
      "outputs": []
    },
    {
      "cell_type": "code",
      "metadata": {
        "id": "Ow-a8uvtO9Gg"
      },
      "source": [
        "x = tf.linspace(0.0, 250, 251)\n",
        "y = hoursepower_model.predict(x)"
      ],
      "execution_count": 70,
      "outputs": []
    },
    {
      "cell_type": "code",
      "metadata": {
        "id": "Ai2Svl4-PL7g"
      },
      "source": [
        "def plot_horsepower(x, y):\n",
        "  plt.scatter(train_features['Horsepower'], train_labels, label='Data')\n",
        "  plt.plot(x, y, color='k', label='Prediction')\n",
        "  plt.xlabel('Horsepower')\n",
        "  plt.ylabel('MPG')\n",
        "  plt.legend()"
      ],
      "execution_count": 71,
      "outputs": []
    },
    {
      "cell_type": "code",
      "metadata": {
        "colab": {
          "base_uri": "https://localhost:8080/",
          "height": 279
        },
        "id": "05eDvup7PrTl",
        "outputId": "2d4e9ffb-5518-48ac-98f5-2a10da0bdeb4"
      },
      "source": [
        "plot_horsepower(x, y)"
      ],
      "execution_count": 72,
      "outputs": [
        {
          "output_type": "display_data",
          "data": {
            "image/png": "[encoded data removed]",
            "text/plain": [
              "<Figure size 432x288 with 1 Axes>"
            ]
          },
          "metadata": {
            "tags": [],
            "needs_background": "light"
          }
        }
      ]
    },
    {
      "cell_type": "markdown",
      "metadata": {
        "id": "M4_flTCHPuPU"
      },
      "source": [
        "# DNN regression"
      ]
    },
    {
      "cell_type": "code",
      "metadata": {
        "id": "6Udqt6qYQ6RW"
      },
      "source": [
        "def build_and_compile_model(norm):\n",
        "  model = keras.Sequential([\n",
        "      norm,\n",
        "      layers.Dense(64, activation='relu'),\n",
        "      layers.Dense(64, activation='relu'),\n",
        "      layers.Dense(1)\n",
        "  ])\n",
        "  \n",
        "  model.compile(\n",
        "      loss='mean_absolute_error',\n",
        "      optimizer=tf.keras.optimizers.Adam(0.001)\n",
        "  )\n",
        "\n",
        "  return model\n",
        "\n"
      ],
      "execution_count": 73,
      "outputs": []
    },
    {
      "cell_type": "code",
      "metadata": {
        "id": "_Ub06YBfRt8y"
      },
      "source": [
        "dnn_horsepower_model = build_and_compile_model(hoursepower_normalizer)"
      ],
      "execution_count": 75,
      "outputs": []
    },
    {
      "cell_type": "code",
      "metadata": {
        "colab": {
          "base_uri": "https://localhost:8080/"
        },
        "id": "Jo0cL1cRRzgt",
        "outputId": "63858fc4-d3be-4d97-894a-5459ca7bd01b"
      },
      "source": [
        "dnn_horsepower_model.summary()"
      ],
      "execution_count": 76,
      "outputs": [
        {
          "output_type": "stream",
          "text": [
            "Model: \"sequential_1\"\n",
            "_________________________________________________________________\n",
            "Layer (type)                 Output Shape              Param #   \n",
            "=================================================================\n",
            "normalization_1 (Normalizati (None, 1)                 3         \n",
            "_________________________________________________________________\n",
            "dense_1 (Dense)              (None, 64)                128       \n",
            "_________________________________________________________________\n",
            "dense_2 (Dense)              (None, 64)                4160      \n",
            "_________________________________________________________________\n",
            "dense_3 (Dense)              (None, 1)                 65        \n",
            "=================================================================\n",
            "Total params: 4,356\n",
            "Trainable params: 4,353\n",
            "Non-trainable params: 3\n",
            "_________________________________________________________________\n"
          ],
          "name": "stdout"
        }
      ]
    },
    {
      "cell_type": "code",
      "metadata": {
        "colab": {
          "base_uri": "https://localhost:8080/"
        },
        "id": "v71epQCpR_4A",
        "outputId": "c051da61-148b-4d84-dd30-a87da79f55fc"
      },
      "source": [
        "#train the model\n",
        "%%time\n",
        "\n",
        "history = dnn_horsepower_model.fit(\n",
        "    train_features['Horsepower'], train_labels,\n",
        "    validation_split=0.2,\n",
        "    verbose=2, epochs=100\n",
        ")"
      ],
      "execution_count": 77,
      "outputs": [
        {
          "output_type": "stream",
          "text": [
            "Epoch 1/100\n",
            "8/8 - 1s - loss: 23.1058 - val_loss: 23.4959\n",
            "Epoch 2/100\n",
            "8/8 - 0s - loss: 22.8889 - val_loss: 23.2657\n",
            "Epoch 3/100\n",
            "8/8 - 0s - loss: 22.6636 - val_loss: 23.0076\n",
            "Epoch 4/100\n",
            "8/8 - 0s - loss: 22.3919 - val_loss: 22.6799\n",
            "Epoch 5/100\n",
            "8/8 - 0s - loss: 22.0354 - val_loss: 22.2403\n",
            "Epoch 6/100\n",
            "8/8 - 0s - loss: 21.5636 - val_loss: 21.6545\n",
            "Epoch 7/100\n",
            "8/8 - 0s - loss: 20.9288 - val_loss: 20.9040\n",
            "Epoch 8/100\n",
            "8/8 - 0s - loss: 20.1271 - val_loss: 19.9326\n",
            "Epoch 9/100\n",
            "8/8 - 0s - loss: 19.0917 - val_loss: 18.7117\n",
            "Epoch 10/100\n",
            "8/8 - 0s - loss: 17.8101 - val_loss: 17.1945\n",
            "Epoch 11/100\n",
            "8/8 - 0s - loss: 16.2018 - val_loss: 15.3924\n",
            "Epoch 12/100\n",
            "8/8 - 0s - loss: 14.3601 - val_loss: 13.2872\n",
            "Epoch 13/100\n",
            "8/8 - 0s - loss: 12.2500 - val_loss: 10.9864\n",
            "Epoch 14/100\n",
            "8/8 - 0s - loss: 9.9319 - val_loss: 8.7116\n",
            "Epoch 15/100\n",
            "8/8 - 0s - loss: 7.2757 - val_loss: 6.6227\n",
            "Epoch 16/100\n",
            "8/8 - 0s - loss: 5.0726 - val_loss: 5.2867\n",
            "Epoch 17/100\n",
            "8/8 - 0s - loss: 4.3721 - val_loss: 5.4240\n",
            "Epoch 18/100\n",
            "8/8 - 0s - loss: 4.2192 - val_loss: 5.3799\n",
            "Epoch 19/100\n",
            "8/8 - 0s - loss: 4.1593 - val_loss: 5.1877\n",
            "Epoch 20/100\n",
            "8/8 - 0s - loss: 4.0402 - val_loss: 4.9740\n",
            "Epoch 21/100\n",
            "8/8 - 0s - loss: 3.9730 - val_loss: 4.8924\n",
            "Epoch 22/100\n",
            "8/8 - 0s - loss: 3.9202 - val_loss: 4.8395\n",
            "Epoch 23/100\n",
            "8/8 - 0s - loss: 3.8628 - val_loss: 4.7817\n",
            "Epoch 24/100\n",
            "8/8 - 0s - loss: 3.8202 - val_loss: 4.7166\n",
            "Epoch 25/100\n",
            "8/8 - 0s - loss: 3.7874 - val_loss: 4.6412\n",
            "Epoch 26/100\n",
            "8/8 - 0s - loss: 3.7498 - val_loss: 4.5716\n",
            "Epoch 27/100\n",
            "8/8 - 0s - loss: 3.7153 - val_loss: 4.5004\n",
            "Epoch 28/100\n",
            "8/8 - 0s - loss: 3.6904 - val_loss: 4.4467\n",
            "Epoch 29/100\n",
            "8/8 - 0s - loss: 3.6643 - val_loss: 4.4027\n",
            "Epoch 30/100\n",
            "8/8 - 0s - loss: 3.6417 - val_loss: 4.3518\n",
            "Epoch 31/100\n",
            "8/8 - 0s - loss: 3.6200 - val_loss: 4.3140\n",
            "Epoch 32/100\n",
            "8/8 - 0s - loss: 3.5987 - val_loss: 4.2758\n",
            "Epoch 33/100\n",
            "8/8 - 0s - loss: 3.5727 - val_loss: 4.2473\n",
            "Epoch 34/100\n",
            "8/8 - 0s - loss: 3.5658 - val_loss: 4.2174\n",
            "Epoch 35/100\n",
            "8/8 - 0s - loss: 3.5434 - val_loss: 4.2029\n",
            "Epoch 36/100\n",
            "8/8 - 0s - loss: 3.5299 - val_loss: 4.1714\n",
            "Epoch 37/100\n",
            "8/8 - 0s - loss: 3.5115 - val_loss: 4.1436\n",
            "Epoch 38/100\n",
            "8/8 - 0s - loss: 3.5029 - val_loss: 4.1238\n",
            "Epoch 39/100\n",
            "8/8 - 0s - loss: 3.4954 - val_loss: 4.1068\n",
            "Epoch 40/100\n",
            "8/8 - 0s - loss: 3.4745 - val_loss: 4.0796\n",
            "Epoch 41/100\n",
            "8/8 - 0s - loss: 3.4595 - val_loss: 4.0550\n",
            "Epoch 42/100\n",
            "8/8 - 0s - loss: 3.4496 - val_loss: 4.0476\n",
            "Epoch 43/100\n",
            "8/8 - 0s - loss: 3.4405 - val_loss: 4.0235\n",
            "Epoch 44/100\n",
            "8/8 - 0s - loss: 3.4255 - val_loss: 4.0171\n",
            "Epoch 45/100\n",
            "8/8 - 0s - loss: 3.4165 - val_loss: 3.9974\n",
            "Epoch 46/100\n",
            "8/8 - 0s - loss: 3.3977 - val_loss: 3.9736\n",
            "Epoch 47/100\n",
            "8/8 - 0s - loss: 3.3954 - val_loss: 3.9662\n",
            "Epoch 48/100\n",
            "8/8 - 0s - loss: 3.3997 - val_loss: 3.9493\n",
            "Epoch 49/100\n",
            "8/8 - 0s - loss: 3.3800 - val_loss: 3.9279\n",
            "Epoch 50/100\n",
            "8/8 - 0s - loss: 3.3696 - val_loss: 3.9171\n",
            "Epoch 51/100\n",
            "8/8 - 0s - loss: 3.3582 - val_loss: 3.9113\n",
            "Epoch 52/100\n",
            "8/8 - 0s - loss: 3.3563 - val_loss: 3.8927\n",
            "Epoch 53/100\n",
            "8/8 - 0s - loss: 3.3408 - val_loss: 3.8765\n",
            "Epoch 54/100\n",
            "8/8 - 0s - loss: 3.3361 - val_loss: 3.8683\n",
            "Epoch 55/100\n",
            "8/8 - 0s - loss: 3.3323 - val_loss: 3.8537\n",
            "Epoch 56/100\n",
            "8/8 - 0s - loss: 3.3224 - val_loss: 3.8427\n",
            "Epoch 57/100\n",
            "8/8 - 0s - loss: 3.3273 - val_loss: 3.8377\n",
            "Epoch 58/100\n",
            "8/8 - 0s - loss: 3.3160 - val_loss: 3.8296\n",
            "Epoch 59/100\n",
            "8/8 - 0s - loss: 3.3095 - val_loss: 3.8239\n",
            "Epoch 60/100\n",
            "8/8 - 0s - loss: 3.3040 - val_loss: 3.8132\n",
            "Epoch 61/100\n",
            "8/8 - 0s - loss: 3.2936 - val_loss: 3.8089\n",
            "Epoch 62/100\n",
            "8/8 - 0s - loss: 3.2941 - val_loss: 3.8076\n",
            "Epoch 63/100\n",
            "8/8 - 0s - loss: 3.2924 - val_loss: 3.7930\n",
            "Epoch 64/100\n",
            "8/8 - 0s - loss: 3.2880 - val_loss: 3.7883\n",
            "Epoch 65/100\n",
            "8/8 - 0s - loss: 3.2849 - val_loss: 3.7839\n",
            "Epoch 66/100\n",
            "8/8 - 0s - loss: 3.2813 - val_loss: 3.7798\n",
            "Epoch 67/100\n",
            "8/8 - 0s - loss: 3.2826 - val_loss: 3.7773\n",
            "Epoch 68/100\n",
            "8/8 - 0s - loss: 3.2774 - val_loss: 3.7726\n",
            "Epoch 69/100\n",
            "8/8 - 0s - loss: 3.2726 - val_loss: 3.7769\n",
            "Epoch 70/100\n",
            "8/8 - 0s - loss: 3.2746 - val_loss: 3.7680\n",
            "Epoch 71/100\n",
            "8/8 - 0s - loss: 3.2783 - val_loss: 3.7723\n",
            "Epoch 72/100\n",
            "8/8 - 0s - loss: 3.2795 - val_loss: 3.7667\n",
            "Epoch 73/100\n",
            "8/8 - 0s - loss: 3.2828 - val_loss: 3.7905\n",
            "Epoch 74/100\n",
            "8/8 - 0s - loss: 3.2735 - val_loss: 3.7735\n",
            "Epoch 75/100\n",
            "8/8 - 0s - loss: 3.2724 - val_loss: 3.7614\n",
            "Epoch 76/100\n",
            "8/8 - 0s - loss: 3.2708 - val_loss: 3.7674\n",
            "Epoch 77/100\n",
            "8/8 - 0s - loss: 3.2672 - val_loss: 3.7724\n",
            "Epoch 78/100\n",
            "8/8 - 0s - loss: 3.2693 - val_loss: 3.7700\n",
            "Epoch 79/100\n",
            "8/8 - 0s - loss: 3.2716 - val_loss: 3.7707\n",
            "Epoch 80/100\n",
            "8/8 - 0s - loss: 3.2714 - val_loss: 3.7774\n",
            "Epoch 81/100\n",
            "8/8 - 0s - loss: 3.2710 - val_loss: 3.7622\n",
            "Epoch 82/100\n",
            "8/8 - 0s - loss: 3.2642 - val_loss: 3.7653\n",
            "Epoch 83/100\n",
            "8/8 - 0s - loss: 3.2738 - val_loss: 3.7722\n",
            "Epoch 84/100\n",
            "8/8 - 0s - loss: 3.2684 - val_loss: 3.7718\n",
            "Epoch 85/100\n",
            "8/8 - 0s - loss: 3.2604 - val_loss: 3.7593\n",
            "Epoch 86/100\n",
            "8/8 - 0s - loss: 3.2711 - val_loss: 3.7707\n",
            "Epoch 87/100\n",
            "8/8 - 0s - loss: 3.2746 - val_loss: 3.7771\n",
            "Epoch 88/100\n",
            "8/8 - 0s - loss: 3.2664 - val_loss: 3.7705\n",
            "Epoch 89/100\n",
            "8/8 - 0s - loss: 3.2652 - val_loss: 3.7502\n",
            "Epoch 90/100\n",
            "8/8 - 0s - loss: 3.2676 - val_loss: 3.7558\n",
            "Epoch 91/100\n",
            "8/8 - 0s - loss: 3.2585 - val_loss: 3.7606\n",
            "Epoch 92/100\n",
            "8/8 - 0s - loss: 3.2662 - val_loss: 3.7715\n",
            "Epoch 93/100\n",
            "8/8 - 0s - loss: 3.2655 - val_loss: 3.7700\n",
            "Epoch 94/100\n",
            "8/8 - 0s - loss: 3.2673 - val_loss: 3.7539\n",
            "Epoch 95/100\n",
            "8/8 - 0s - loss: 3.2598 - val_loss: 3.7557\n",
            "Epoch 96/100\n",
            "8/8 - 0s - loss: 3.2604 - val_loss: 3.7765\n",
            "Epoch 97/100\n",
            "8/8 - 0s - loss: 3.2583 - val_loss: 3.7690\n",
            "Epoch 98/100\n",
            "8/8 - 0s - loss: 3.2514 - val_loss: 3.7587\n",
            "Epoch 99/100\n",
            "8/8 - 0s - loss: 3.2537 - val_loss: 3.7606\n",
            "Epoch 100/100\n",
            "8/8 - 0s - loss: 3.2520 - val_loss: 3.7594\n",
            "CPU times: user 4.1 s, sys: 224 ms, total: 4.33 s\n",
            "Wall time: 4.21 s\n"
          ],
          "name": "stdout"
        }
      ]
    },
    {
      "cell_type": "code",
      "metadata": {
        "colab": {
          "base_uri": "https://localhost:8080/",
          "height": 283
        },
        "id": "NuLyC0jBSYDe",
        "outputId": "647ecfda-06d4-41bd-9322-1f7e8a5b8098"
      },
      "source": [
        "plot_loss(history)"
      ],
      "execution_count": 78,
      "outputs": [
        {
          "output_type": "display_data",
          "data": {
            "image/png": "[encoded data removed]",
            "text/plain": [
              "<Figure size 432x288 with 1 Axes>"
            ]
          },
          "metadata": {
            "tags": [],
            "needs_background": "light"
          }
        }
      ]
    },
    {
      "cell_type": "code",
      "metadata": {
        "id": "_ATh1XYaTAyF"
      },
      "source": [
        "x = tf.linspace(0.0, 250, 251)\n",
        "y = dnn_horsepower_model.predict(x)"
      ],
      "execution_count": 79,
      "outputs": []
    },
    {
      "cell_type": "code",
      "metadata": {
        "colab": {
          "base_uri": "https://localhost:8080/",
          "height": 279
        },
        "id": "qi4Sw_yzTJMJ",
        "outputId": "63ecd88e-1e22-4fc9-ebda-df5e39aac954"
      },
      "source": [
        "plot_horsepower(x, y)"
      ],
      "execution_count": 80,
      "outputs": [
        {
          "output_type": "display_data",
          "data": {
            "image/png": "[encoded data removed]",
            "text/plain": [
              "<Figure size 432x288 with 1 Axes>"
            ]
          },
          "metadata": {
            "tags": [],
            "needs_background": "light"
          }
        }
      ]
    },
    {
      "cell_type": "code",
      "metadata": {
        "id": "jH5qiu3ZTLIm"
      },
      "source": [
        ""
      ],
      "execution_count": null,
      "outputs": []
    }
  ]
}