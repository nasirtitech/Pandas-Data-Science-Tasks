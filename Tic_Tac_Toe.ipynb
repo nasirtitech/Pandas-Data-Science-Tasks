{
  "nbformat": 4,
  "nbformat_minor": 0,
  "metadata": {
    "colab": {
      "name": "Tic Tac Toe.ipynb",
      "provenance": [],
      "authorship_tag": "ABX9TyO6zggcXPqu3ctQHff+chvt",
      "include_colab_link": true
    },
    "kernelspec": {
      "name": "python3",
      "display_name": "Python 3"
    },
    "language_info": {
      "name": "python"
    }
  },
  "cells": [
    {
      "cell_type": "markdown",
      "metadata": {
        "id": "view-in-github",
        "colab_type": "text"
      },
      "source": [
        "<a href=\"https://colab.research.google.com/github/nasirtitech/Pandas-Data-Science-Tasks/blob/master/Tic_Tac_Toe.ipynb\" target=\"_parent\"><img src=\"https://colab.research.google.com/assets/colab-badge.svg\" alt=\"Open In Colab\"/></a>"
      ]
    },
    {
      "cell_type": "markdown",
      "metadata": {
        "id": "FUxsOP5Gv3MF"
      },
      "source": [
        "### Import the module"
      ]
    },
    {
      "cell_type": "code",
      "metadata": {
        "id": "b794JE1pwF9f"
      },
      "source": [
        "# Tic Tac Toe\n",
        "\n",
        "import random"
      ],
      "execution_count": 1,
      "outputs": []
    },
    {
      "cell_type": "markdown",
      "metadata": {
        "id": "MOBqspWXwKKL"
      },
      "source": [
        "### Print the board on the screen"
      ]
    },
    {
      "cell_type": "code",
      "metadata": {
        "id": "ipVMHmLEwRVg"
      },
      "source": [
        "def drawBoard(board):\n",
        "  # This function prints out the board that it was passed.\n",
        "  # \"board\" is a list of 10 strings representing the board (ignore index 0)\n",
        "\n",
        "  print('    |    |')\n",
        "  print('  '+ board[7] + ' | ' + board[8] + '  | ' + board[9])\n",
        "  print('    |    |')\n",
        "  print('--------------')\n",
        "\n",
        "  print('    |    |')\n",
        "  print('  '+ board[4] + ' | ' + board[5] + '  | ' + board[7])\n",
        "  print('    |    |')\n",
        "  print('--------------')\n",
        "\n",
        "  print('    |    |')\n",
        "  print('  '+ board[1] + ' | ' + board[2] + '  | ' + board[3])\n",
        "  print('    |    |')\n",
        "  print('--------------')"
      ],
      "execution_count": 40,
      "outputs": []
    },
    {
      "cell_type": "markdown",
      "metadata": {
        "id": "TMC3gqcqximd"
      },
      "source": [
        "### Letting the Player be X or O"
      ]
    },
    {
      "cell_type": "code",
      "metadata": {
        "id": "bs5SgafC2cqf"
      },
      "source": [
        "def inputPlayerLetter():\n",
        "  # Lets the player type which letter they want to be.\n",
        "  # Returns a list with the player’s letter as the first item, and the computer's letter as the second.\n",
        "  letter = ''\n",
        "  while not (letter == 'X' or letter == 'O'):\n",
        "    print('Do you want to be X or O?')\n",
        "    letter = input().upper()\n",
        "\n",
        "  # the first element in the list is the player’s letter, the second is the computer's letter.\n",
        "  if letter == 'X':\n",
        "    return ['X', 'O']\n",
        "  else:\n",
        "    return ['O', 'X']\n"
      ],
      "execution_count": 41,
      "outputs": []
    },
    {
      "cell_type": "markdown",
      "metadata": {
        "id": "CGuhULct3NrW"
      },
      "source": [
        "### Deciding who goes first"
      ]
    },
    {
      "cell_type": "code",
      "metadata": {
        "id": "Vz5qehhU3jji"
      },
      "source": [
        "def whoGoesFirst():\n",
        "  #Randomly choose the player who goes first.\n",
        "  if random.randint(0, 1) == 0:\n",
        "    return 'computer'\n",
        "  else:\n",
        "    return 'player'"
      ],
      "execution_count": 42,
      "outputs": []
    },
    {
      "cell_type": "markdown",
      "metadata": {
        "id": "9E4hcBQY3_Gg"
      },
      "source": [
        "### Asking the Player to play again"
      ]
    },
    {
      "cell_type": "code",
      "metadata": {
        "id": "md1geqg04Efe"
      },
      "source": [
        "def playAgain():\n",
        "  # This function returns True if the player wants to play again, otherwise it returns False.\n",
        "  print('Do you want to play again ? (yes or no')\n",
        "  return input().lower().startswith('y')"
      ],
      "execution_count": 43,
      "outputs": []
    },
    {
      "cell_type": "markdown",
      "metadata": {
        "id": "4CWwYjM24iW3"
      },
      "source": [
        "### Placing a mark on the board"
      ]
    },
    {
      "cell_type": "code",
      "metadata": {
        "id": "Z3Pl7BXk4od_"
      },
      "source": [
        "def makeMove(board, letter, move):\n",
        "  board[move] = letter"
      ],
      "execution_count": 44,
      "outputs": []
    },
    {
      "cell_type": "markdown",
      "metadata": {
        "id": "yZpkmAdi6g30"
      },
      "source": [
        "### Checking if the Player has won"
      ]
    },
    {
      "cell_type": "code",
      "metadata": {
        "id": "ECfekFGi6k8T"
      },
      "source": [
        "def isWinner(bo, le):\n",
        "  # Given a board and a player’s letter, this function returns True if that player has won.\n",
        "  # We use bo instead of board and le instead of letter so we don’t have to type as much.\n",
        "  return ((bo[7] == le and bo[8] == le and bo[9] == le) or\n",
        "          (bo[4] == le and bo[5] == le and bo[6] == le) or \n",
        "          (bo[1] == le and bo[2] == le and bo[3] == le) or\n",
        "          (bo[7] == le and bo[4] == le and bo[1] == le) or\n",
        "          (bo[8] == le and bo[5] == le and bo[2] == le) or\n",
        "          (bo[9] == le and bo[6] == le and bo[3] == le) or\n",
        "          (bo[7] == le and bo[5] == le and bo[3] == le) or #diagonal\n",
        "          (bo[9] == le and bo[5] == le and bo[1] == le)) #Diagonal"
      ],
      "execution_count": 45,
      "outputs": []
    },
    {
      "cell_type": "markdown",
      "metadata": {
        "id": "V2Erl-V07okM"
      },
      "source": [
        "### Duplicating the Board data"
      ]
    },
    {
      "cell_type": "code",
      "metadata": {
        "id": "Rfxb6R-88IWM"
      },
      "source": [
        "def getBoardCopy(board):\n",
        "  # Make a duplicate of the board list and return it the duplicate.\n",
        "  dupeBoard = []\n",
        "\n",
        "  for i in board:\n",
        "    dupeBoard.append(i)\n",
        "\n",
        "  return dupeBoard"
      ],
      "execution_count": 46,
      "outputs": []
    },
    {
      "cell_type": "markdown",
      "metadata": {
        "id": "D_WY3rfz8taf"
      },
      "source": [
        "### Check if a space on the Board is Free"
      ]
    },
    {
      "cell_type": "code",
      "metadata": {
        "id": "YWUL4gIW8yQf"
      },
      "source": [
        "def isSpaceFree(board, move):\n",
        "  # Return true if the passed move is free on the passed board.\n",
        "  return board[move]==' '\n",
        "  "
      ],
      "execution_count": 47,
      "outputs": []
    },
    {
      "cell_type": "markdown",
      "metadata": {
        "id": "brm-iQLR89lf"
      },
      "source": [
        "### Letting the player enter their move"
      ]
    },
    {
      "cell_type": "code",
      "metadata": {
        "id": "kbM0yksX9Lqz"
      },
      "source": [
        "def getPlayerMove(board):\n",
        "  #Let the player type in their move.\n",
        "  move = ' '\n",
        "  while move not in ' 1 2 3 4 5 6 7 8 9'.split() or not isSpaceFree(board, int(move)):\n",
        "    print('What is your next move?(1-9')\n",
        "    move = input()\n",
        "  return int(move)"
      ],
      "execution_count": 48,
      "outputs": []
    },
    {
      "cell_type": "markdown",
      "metadata": {
        "id": "0jNJ-oNR-9ym"
      },
      "source": [
        "### Chosing a Move fron a list of moves"
      ]
    },
    {
      "cell_type": "code",
      "metadata": {
        "id": "fLNVjqfAAzEn"
      },
      "source": [
        "def chooseRandomMoveFromList(board, movesList):\n",
        "  # Returns a valid move from the passed list on the passed board.\n",
        "  # Returns None if there is no valid move.\n",
        "  possibleMoves = []\n",
        "  for i in movesList:\n",
        "    if isSpaceFree(board, i):\n",
        "      possibleMoves.append(i)\n",
        "  \n",
        "  if len(possibleMoves) != 0:\n",
        "    return random.choice(possibleMoves)\n",
        "  else:\n",
        "    return None"
      ],
      "execution_count": 55,
      "outputs": []
    },
    {
      "cell_type": "markdown",
      "metadata": {
        "id": "0ga32WNWBNyN"
      },
      "source": [
        "### Creating the computer artificial intelligence"
      ]
    },
    {
      "cell_type": "code",
      "metadata": {
        "id": "XfcBxpczDcE9"
      },
      "source": [
        "def getComputerMove(board, computerLetter):\n",
        "  # Given a board and the computer's letter, determine where to move and return that move.\n",
        "  if computerLetter == 'X':\n",
        "    playerLetter = 'O'\n",
        "  else:\n",
        "    playerLetter = 'X'\n",
        "\n",
        "  ## Here is our algorithm for our Tic Tac Toe AI:\n",
        "  # First, check if we can win in the next move\n",
        "  for i in range(1, 10):\n",
        "    copy = getBoardCopy(board)\n",
        "    if isSpaceFree(copy, i):\n",
        "      makeMove(copy, computerLetter, i)\n",
        "      if isWinner(copy, computerLetter):\n",
        "        return i\n",
        "  \n",
        "  # Check if the player could win on their next move, and block them.\n",
        "  for i in range(1, 10):\n",
        "    copy = getBoardCopy(board)\n",
        "    if isSpaceFree(copy, i):\n",
        "      makeMove(copy, playerLetter, i)\n",
        "      if isWinner(copy, playerLetter):\n",
        "        return i\n",
        "\n",
        "  # Try to take one of the corners, if they are free.\n",
        "  move = chooseRandomMoveFromList(board, [1, 3, 7, 9])\n",
        "  if move != None:\n",
        "    return move\n",
        "\n",
        "  # Try to take the center, if it is free.\n",
        "  if isSpaceFree(board, 5):\n",
        "    return 5\n",
        "\n",
        "  # Move on one of the sides.\n",
        "  return chooseRandomMoveFromList(board, [2, 4, 6, 8])\n",
        "\n",
        "    "
      ],
      "execution_count": 51,
      "outputs": []
    },
    {
      "cell_type": "markdown",
      "metadata": {
        "id": "NfQ9sLT2EAAN"
      },
      "source": [
        "### Checking if the board is full\n",
        "\n"
      ]
    },
    {
      "cell_type": "code",
      "metadata": {
        "id": "9puWJkPNGNef"
      },
      "source": [
        "def isBoardFull(board):\n",
        "  # Return True if every space on the board has been taken. Otherwise return False.\n",
        "  for i in range (1, 10):\n",
        "    if isSpaceFree(board, i):\n",
        "      return False\n",
        "\n",
        "  return True"
      ],
      "execution_count": 52,
      "outputs": []
    },
    {
      "cell_type": "markdown",
      "metadata": {
        "id": "bxFoRVUZJMCV"
      },
      "source": [
        "### THe start of the Game"
      ]
    },
    {
      "cell_type": "code",
      "metadata": {
        "colab": {
          "base_uri": "https://localhost:8080/"
        },
        "id": "ph_AOvlMJQ6u",
        "outputId": "32d4919e-db40-4760-c53e-84722673ca2c"
      },
      "source": [
        "print('Welcome to Tic Tac Toe!')"
      ],
      "execution_count": 53,
      "outputs": [
        {
          "output_type": "stream",
          "text": [
            "Welcome to Tic Tac Toe!\n"
          ],
          "name": "stdout"
        }
      ]
    },
    {
      "cell_type": "code",
      "metadata": {
        "colab": {
          "base_uri": "https://localhost:8080/"
        },
        "id": "nAtUkquxJWAo",
        "outputId": "9c5cbf30-15b1-4fb7-d41b-4f8ed0dca504"
      },
      "source": [
        "while True:\n",
        "  # Reset the board\n",
        "  theBoard = [' '] * 10\n",
        "  playerLetter, computerLetter = inputPlayerLetter()\n",
        "  turn = whoGoesFirst()\n",
        "  print('The ' + turn + ' will go first.')\n",
        "  gameIsPlaying = True\n",
        "\n",
        "  while gameIsPlaying:\n",
        "    if turn == 'player':\n",
        "      # Player’s turn.\n",
        "      drawBoard(theBoard)\n",
        "      move = getPlayerMove(theBoard)\n",
        "      makeMove(theBoard, playerLetter, move)\n",
        "\n",
        "      if isWinner(theBoard, playerLetter):\n",
        "        drawBoard(theBoard)\n",
        "        print('Hooray! You have won the game!')\n",
        "        gameIsPlaying = False\n",
        "      else:\n",
        "        if isBoardFull(theBoard):\n",
        "          drawBoard(theBoard)\n",
        "          print('The game is a tie!')\n",
        "          break\n",
        "        else:\n",
        "          turn = 'computer'\n",
        "\n",
        "    else:\n",
        "      # Computer’s turn.\n",
        "      move = getComputerMove(theBoard, computerLetter)\n",
        "      makeMove(theBoard, computerLetter, move)\n",
        "\n",
        "      if isWinner(theBoard, computerLetter):\n",
        "        drawBoard(theBoard)\n",
        "        print('The computer has beaten you! You lose.')\n",
        "        gameIsPlaying = False\n",
        "      else:\n",
        "        if isBoardFull(theBoard):\n",
        "          drawBoard(theBoard)\n",
        "          print('The game is a tie!')\n",
        "          break\n",
        "        else:\n",
        "          turn = 'player'\n",
        "  if not playAgain():\n",
        "    break"
      ],
      "execution_count": 56,
      "outputs": [
        {
          "output_type": "stream",
          "text": [
            "Do you want to be X or O?\n",
            "x\n",
            "The computer will go first.\n",
            "    |    |\n",
            "    |    |  \n",
            "    |    |\n",
            "--------------\n",
            "    |    |\n",
            "    |    |  \n",
            "    |    |\n",
            "--------------\n",
            "    |    |\n",
            "  O |    |  \n",
            "    |    |\n",
            "--------------\n",
            "What is your next move?(1-9\n",
            "9\n",
            "    |    |\n",
            "    |    | X\n",
            "    |    |\n",
            "--------------\n",
            "    |    |\n",
            "    |    |  \n",
            "    |    |\n",
            "--------------\n",
            "    |    |\n",
            "  O |    | O\n",
            "    |    |\n",
            "--------------\n",
            "What is your next move?(1-9\n",
            "2\n",
            "    |    |\n",
            "  O |    | X\n",
            "    |    |\n",
            "--------------\n",
            "    |    |\n",
            "    |    | O\n",
            "    |    |\n",
            "--------------\n",
            "    |    |\n",
            "  O | X  | O\n",
            "    |    |\n",
            "--------------\n",
            "What is your next move?(1-9\n",
            "4\n",
            "    |    |\n",
            "  O |    | X\n",
            "    |    |\n",
            "--------------\n",
            "    |    |\n",
            "  X | O  | O\n",
            "    |    |\n",
            "--------------\n",
            "    |    |\n",
            "  O | X  | O\n",
            "    |    |\n",
            "--------------\n",
            "The computer has beaten you! You lose.\n",
            "Do you want to play again ? (yes or no\n",
            "n\n"
          ],
          "name": "stdout"
        }
      ]
    },
    {
      "cell_type": "code",
      "metadata": {
        "id": "As709SScOnk0"
      },
      "source": [
        ""
      ],
      "execution_count": null,
      "outputs": []
    }
  ]
}